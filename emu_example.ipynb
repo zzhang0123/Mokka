{
 "cells": [
  {
   "cell_type": "code",
   "execution_count": null,
   "id": "341977ea",
   "metadata": {},
   "outputs": [],
   "source": [
    "import MomentEmu"
   ]
  },
  {
   "cell_type": "code",
   "execution_count": null,
   "id": "d8becd05",
   "metadata": {},
   "outputs": [],
   "source": [
    "training_parameters = np.load('train_linear_params_0.npz')\n",
    "training_features = np.load('train_linear_logpower_0.npz')\n",
    "model_parameters = ['z_frb','eta','deta','Nstar','ciga','thco','Mc','mu','delta','gamma']\n",
    "X_train = np.stack([training_parameters[key] for key in model_parameters], axis=1)\n",
    "Y_train = training_features['features']\n",
    "X_train[:,6] = np.log10(X_train[:,6])\n",
    "print(f\"Training data shape: X={X_train.shape}, Y={Y_train.shape}\")"
   ]
  },
  {
   "cell_type": "code",
   "execution_count": null,
   "id": "cff995ce",
   "metadata": {},
   "outputs": [],
   "source": [
    "# Create emulator with forward mapping\n",
    "emulator = PolyEmu(\n",
    "    X_train, \n",
    "    Y_train,\n",
    "    forward=True,              # Enable forward emulation: θ → y\n",
    "    cross_validation=False,\n",
    "    RMSE_tol=1e-5,\n",
    "    max_degree_forward=7,      # Maximum polynomial degree\n",
    "    backward=False,            # Disable inverse for this example\n",
    "    standardize_Y_with_std=True,\n",
    "    batch_size=80000,\n",
    ")\n",
    "\n",
    "print(\"✅ Emulator trained successfully!\")"
   ]
  }
 ],
 "metadata": {
  "language_info": {
   "name": "python"
  }
 },
 "nbformat": 4,
 "nbformat_minor": 5
}
